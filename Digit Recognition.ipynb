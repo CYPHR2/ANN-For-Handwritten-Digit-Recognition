{
 "cells": [
  {
   "cell_type": "markdown",
   "metadata": {},
   "source": [
    "# importing all the necessary modules\n",
    "\n"
   ]
  },
  {
   "cell_type": "code",
   "execution_count": null,
   "metadata": {
    "scrolled": true
   },
   "outputs": [],
   "source": []
  },
  {
   "cell_type": "code",
   "execution_count": 147,
   "metadata": {},
   "outputs": [],
   "source": [
    "import tensorflow as tf\n",
    "from tensorflow import keras\n",
    "import matplotlib.pyplot as plt\n",
    "import os\n",
    "import cv2\n",
    "%matplotlib inline\n",
    "import numpy as np\n",
    "from tensorflow.keras.preprocessing.image import ImageDataGenerator\n",
    "from tensorflow.keras.preprocessing import image"
   ]
  },
  {
   "cell_type": "markdown",
   "metadata": {},
   "source": [
    "# Loading mnist dataset into separate train and test variables"
   ]
  },
  {
   "cell_type": "code",
   "execution_count": 148,
   "metadata": {},
   "outputs": [],
   "source": [
    "(X_train,Y_train),(X_test,Y_test) = keras.datasets.mnist.load_data()"
   ]
  },
  {
   "cell_type": "markdown",
   "metadata": {},
   "source": [
    "# printing out lengths of training and test data"
   ]
  },
  {
   "cell_type": "code",
   "execution_count": 149,
   "metadata": {},
   "outputs": [
    {
     "name": "stdout",
     "output_type": "stream",
     "text": [
      "60000 60000\n",
      "10000 10000\n"
     ]
    }
   ],
   "source": [
    "print (len(X_train),len(Y_train))\n",
    "print (len(X_test),len(Y_test))"
   ]
  },
  {
   "cell_type": "markdown",
   "metadata": {},
   "source": [
    "# Printing out dimensions of X_train(Images pixel array)"
   ]
  },
  {
   "cell_type": "code",
   "execution_count": 150,
   "metadata": {},
   "outputs": [
    {
     "data": {
      "text/plain": [
       "(60000, 28, 28)"
      ]
     },
     "execution_count": 150,
     "metadata": {},
     "output_type": "execute_result"
    }
   ],
   "source": [
    "X_train.shape\n",
    "#X_train[0]\n",
    "\n"
   ]
  },
  {
   "cell_type": "markdown",
   "metadata": {},
   "source": [
    "# Normalising X_train and X_test"
   ]
  },
  {
   "cell_type": "code",
   "execution_count": 151,
   "metadata": {},
   "outputs": [],
   "source": [
    "X_train = X_train/255\n",
    "X_test = X_test/255"
   ]
  },
  {
   "cell_type": "code",
   "execution_count": 152,
   "metadata": {},
   "outputs": [
    {
     "name": "stdout",
     "output_type": "stream",
     "text": [
      "5\n"
     ]
    }
   ],
   "source": [
    "X_train[0]\n",
    "print(Y_train[0])"
   ]
  },
  {
   "cell_type": "markdown",
   "metadata": {},
   "source": [
    "# Flattening out X_train and X_test to reduce the dimensions and printing out new dimensions"
   ]
  },
  {
   "cell_type": "code",
   "execution_count": 153,
   "metadata": {},
   "outputs": [],
   "source": [
    "X_train_flattened = X_train.reshape(len(X_train),28*28)"
   ]
  },
  {
   "cell_type": "code",
   "execution_count": 154,
   "metadata": {},
   "outputs": [
    {
     "data": {
      "text/plain": [
       "(60000, 784)"
      ]
     },
     "execution_count": 154,
     "metadata": {},
     "output_type": "execute_result"
    }
   ],
   "source": [
    "X_train_flattened.shape"
   ]
  },
  {
   "cell_type": "code",
   "execution_count": 155,
   "metadata": {},
   "outputs": [],
   "source": [
    "X_test_flattened = X_test.reshape(len(X_test),28*28)"
   ]
  },
  {
   "cell_type": "code",
   "execution_count": 156,
   "metadata": {},
   "outputs": [
    {
     "data": {
      "text/plain": [
       "(10000, 784)"
      ]
     },
     "execution_count": 156,
     "metadata": {},
     "output_type": "execute_result"
    }
   ],
   "source": [
    "X_test_flattened.shape"
   ]
  },
  {
   "cell_type": "markdown",
   "metadata": {},
   "source": [
    "# Building model and fitting the data"
   ]
  },
  {
   "cell_type": "code",
   "execution_count": 157,
   "metadata": {},
   "outputs": [],
   "source": [
    "model= keras.Sequential([\n",
    "\n",
    "keras.layers.Dense(100,input_shape=(784,),activation = 'relu'),\n",
    "keras.layers.Dense(100,activation = 'relu'),    \n",
    "keras.layers.Dense(10,activation = 'sigmoid')\n",
    "    \n",
    "    \n",
    "                   \n",
    "])\n",
    "\n",
    "model.compile(\n",
    "    optimizer = 'adam',\n",
    "    loss = 'sparse_categorical_crossentropy',\n",
    "    metrics = ['accuracy']\n",
    ")\n"
   ]
  },
  {
   "cell_type": "code",
   "execution_count": 158,
   "metadata": {},
   "outputs": [
    {
     "name": "stdout",
     "output_type": "stream",
     "text": [
      "Epoch 1/15\n",
      "1875/1875 [==============================] - 51s 3ms/step - loss: 0.4299 - accuracy: 0.8739\n",
      "Epoch 2/15\n",
      "1875/1875 [==============================] - 5s 2ms/step - loss: 0.1081 - accuracy: 0.9666\n",
      "Epoch 3/15\n",
      "1875/1875 [==============================] - 4s 2ms/step - loss: 0.0744 - accuracy: 0.9765\n",
      "Epoch 4/15\n",
      "1875/1875 [==============================] - 4s 2ms/step - loss: 0.0557 - accuracy: 0.9828\n",
      "Epoch 5/15\n",
      "1875/1875 [==============================] - 4s 2ms/step - loss: 0.0401 - accuracy: 0.9876\n",
      "Epoch 6/15\n",
      "1875/1875 [==============================] - 4s 2ms/step - loss: 0.0328 - accuracy: 0.9887\n",
      "Epoch 7/15\n",
      "1875/1875 [==============================] - 4s 2ms/step - loss: 0.0295 - accuracy: 0.9904\n",
      "Epoch 8/15\n",
      "1875/1875 [==============================] - 4s 2ms/step - loss: 0.0247 - accuracy: 0.9917\n",
      "Epoch 9/15\n",
      "1875/1875 [==============================] - 4s 2ms/step - loss: 0.0195 - accuracy: 0.9929\n",
      "Epoch 10/15\n",
      "1875/1875 [==============================] - 4s 2ms/step - loss: 0.0162 - accuracy: 0.9947\n",
      "Epoch 11/15\n",
      "1875/1875 [==============================] - 4s 2ms/step - loss: 0.0166 - accuracy: 0.9943\n",
      "Epoch 12/15\n",
      "1875/1875 [==============================] - 4s 2ms/step - loss: 0.0152 - accuracy: 0.9946\n",
      "Epoch 13/15\n",
      "1875/1875 [==============================] - 4s 2ms/step - loss: 0.0110 - accuracy: 0.9965\n",
      "Epoch 14/15\n",
      "1875/1875 [==============================] - 4s 2ms/step - loss: 0.0133 - accuracy: 0.9955\n",
      "Epoch 15/15\n",
      "1875/1875 [==============================] - 4s 2ms/step - loss: 0.0116 - accuracy: 0.9962\n",
      "Wall time: 2min 19s\n"
     ]
    },
    {
     "data": {
      "text/plain": [
       "<tensorflow.python.keras.callbacks.History at 0x557aa22c8>"
      ]
     },
     "execution_count": 158,
     "metadata": {},
     "output_type": "execute_result"
    }
   ],
   "source": [
    "%%time\n",
    "model.fit(X_train_flattened,Y_train,epochs=15)"
   ]
  },
  {
   "cell_type": "markdown",
   "metadata": {},
   "source": [
    "Evaluating the model"
   ]
  },
  {
   "cell_type": "code",
   "execution_count": 159,
   "metadata": {},
   "outputs": [
    {
     "name": "stdout",
     "output_type": "stream",
     "text": [
      "313/313 [==============================] - 5s 2ms/step - loss: 0.1119 - accuracy: 0.9767\n"
     ]
    },
    {
     "data": {
      "text/plain": [
       "[0.11194189637899399, 0.9767000079154968]"
      ]
     },
     "execution_count": 159,
     "metadata": {},
     "output_type": "execute_result"
    }
   ],
   "source": [
    "model.evaluate(X_test_flattened,Y_test)"
   ]
  },
  {
   "cell_type": "code",
   "execution_count": null,
   "metadata": {},
   "outputs": [],
   "source": [
    "\n"
   ]
  },
  {
   "cell_type": "markdown",
   "metadata": {},
   "source": [
    "# Predicting digits for test values "
   ]
  },
  {
   "cell_type": "code",
   "execution_count": 182,
   "metadata": {},
   "outputs": [
    {
     "data": {
      "text/plain": [
       "array([2.0344645e-02, 1.9974113e-03, 1.0000000e+00, 9.5782584e-01,\n",
       "       4.8076170e-12, 1.8508733e-06, 4.7961729e-10, 2.8252565e-11,\n",
       "       9.5211452e-01, 2.2926914e-09], dtype=float32)"
      ]
     },
     "execution_count": 182,
     "metadata": {},
     "output_type": "execute_result"
    }
   ],
   "source": [
    "y_predicted =model.predict(X_test_flattened)\n",
    "y_predicted[1]"
   ]
  },
  {
   "cell_type": "code",
   "execution_count": 190,
   "metadata": {},
   "outputs": [
    {
     "data": {
      "text/plain": [
       "[7, 2, 1, 0, 4]"
      ]
     },
     "execution_count": 190,
     "metadata": {},
     "output_type": "execute_result"
    }
   ],
   "source": [
    "y_predicted_labels = [np.argmax(i) for i in y_predicted]\n",
    "y_predicted_labels[:5]\n"
   ]
  },
  {
   "cell_type": "code",
   "execution_count": 191,
   "metadata": {},
   "outputs": [
    {
     "name": "stdout",
     "output_type": "stream",
     "text": [
      "[7 2 1 0 4]\n"
     ]
    }
   ],
   "source": [
    "print(Y_test[:5])"
   ]
  },
  {
   "cell_type": "markdown",
   "metadata": {},
   "source": [
    "# Visulaising the number of images predicted correctly using confusion matrix"
   ]
  },
  {
   "cell_type": "code",
   "execution_count": 143,
   "metadata": {},
   "outputs": [
    {
     "data": {
      "text/plain": [
       "<tf.Tensor: shape=(10, 10), dtype=int32, numpy=\n",
       "array([[ 972,    0,    0,    1,    2,    0,    1,    0,    3,    1],\n",
       "       [   0, 1130,    0,    0,    0,    0,    2,    0,    2,    1],\n",
       "       [   7,    5, 1005,    2,    1,    0,    1,    6,    5,    0],\n",
       "       [   0,    0,    6,  991,    0,    1,    0,    5,    6,    1],\n",
       "       [   0,    0,    3,    0,  956,    1,    4,    4,    1,   13],\n",
       "       [   3,    0,    0,   13,    1,  860,    5,    2,    5,    3],\n",
       "       [   4,    1,    2,    1,    5,   11,  931,    0,    3,    0],\n",
       "       [   0,    2,   11,    5,    1,    1,    0,  997,    3,    8],\n",
       "       [   1,    0,    5,    4,    2,    4,    0,    2,  951,    5],\n",
       "       [   2,    2,    0,    7,    7,    2,    0,    4,    3,  982]])>"
      ]
     },
     "execution_count": 143,
     "metadata": {},
     "output_type": "execute_result"
    }
   ],
   "source": [
    "cm = tf.math.confusion_matrix(labels=Y_test,predictions=y_predicted_labels )\n",
    "cm"
   ]
  },
  {
   "cell_type": "code",
   "execution_count": 144,
   "metadata": {},
   "outputs": [
    {
     "data": {
      "text/plain": [
       "Text(69.0, 0.5, 'Truth')"
      ]
     },
     "execution_count": 144,
     "metadata": {},
     "output_type": "execute_result"
    },
    {
     "data": {
      "image/png": "[encoded data removed]",
      "text/plain": [
       "<Figure size 720x504 with 2 Axes>"
      ]
     },
     "metadata": {
      "needs_background": "light"
     },
     "output_type": "display_data"
    }
   ],
   "source": [
    "import seaborn as sn\n",
    "plt.figure(figsize= (10,7))\n",
    "sn.heatmap(cm, annot=True, fmt='d')\n",
    "plt.xlabel('Predicted')\n",
    "plt.ylabel('Truth')"
   ]
  },
  {
   "cell_type": "code",
   "execution_count": null,
   "metadata": {},
   "outputs": [],
   "source": [
    "\n"
   ]
  },
  {
   "cell_type": "markdown",
   "metadata": {},
   "source": [
    "# Loading handwritten images"
   ]
  },
  {
   "cell_type": "code",
   "execution_count": 186,
   "metadata": {},
   "outputs": [
    {
     "data": {
      "text/plain": [
       "<matplotlib.image.AxesImage at 0x54c8118c8>"
      ]
     },
     "execution_count": 186,
     "metadata": {},
     "output_type": "execute_result"
    },
    {
     "data": {
      "image/png": "[encoded data removed]",
      "text/plain": [
       "<Figure size 432x288 with 1 Axes>"
      ]
     },
     "metadata": {
      "needs_background": "light"
     },
     "output_type": "display_data"
    }
   ],
   "source": [
    "img = image.load_img(\"./9.jpg\")\n",
    "img_pixel = cv2.imread(\"./9.jpg\", cv2.IMREAD_GRAYSCALE)\n",
    "plt.imshow(img_pixel, cmap='gray')"
   ]
  },
  {
   "cell_type": "markdown",
   "metadata": {},
   "source": [
    "# Reshaping the pixel array of the handwrirren image"
   ]
  },
  {
   "cell_type": "code",
   "execution_count": 95,
   "metadata": {},
   "outputs": [],
   "source": [
    "#print(X_test[0])\n",
    "#print(img_pixel_flattened[0])"
   ]
  },
  {
   "cell_type": "code",
   "execution_count": 187,
   "metadata": {},
   "outputs": [
    {
     "name": "stdout",
     "output_type": "stream",
     "text": [
      "(28, 28)\n",
      "(784,)\n"
     ]
    }
   ],
   "source": [
    "print(img_pixel.shape)\n",
    "print(X_test_flattened[0].shape)"
   ]
  },
  {
   "cell_type": "code",
   "execution_count": 188,
   "metadata": {},
   "outputs": [
    {
     "name": "stdout",
     "output_type": "stream",
     "text": [
      "(1, 784)\n",
      "(784,)\n",
      "[0.03529412 0.03529412 0.03529412 0.03529412 0.03529412 0.03529412\n",
      " 0.03921569 0.03921569 0.03529412 0.03921569 0.03921569 0.03529412\n",
      " 0.03529412 0.04313725 0.03921569 0.02745098 0.03921569 0.03529412\n",
      " 0.03529412 0.03529412 0.03529412 0.03529412 0.03921569 0.03921569\n",
      " 0.03137255 0.03529412 0.03529412 0.03529412 0.03529412 0.03529412\n",
      " 0.03529412 0.03529412 0.03529412 0.03529412 0.03529412 0.03529412\n",
      " 0.03921569 0.03137255 0.02745098 0.03529412 0.03921569 0.03921569\n",
      " 0.03529412 0.03137255 0.03529412 0.03529412 0.03137255 0.03137255\n",
      " 0.03137255 0.03137255 0.03137255 0.02745098 0.03137255 0.03137255\n",
      " 0.03529412 0.03529412 0.03529412 0.03529412 0.03529412 0.03529412\n",
      " 0.03529412 0.03529412 0.03529412 0.03529412 0.02745098 0.03137255\n",
      " 0.03529412 0.03529412 0.03137255 0.02745098 0.03137255 0.03921569\n",
      " 0.03137255 0.03137255 0.03529412 0.03529412 0.03529412 0.03137255\n",
      " 0.03137255 0.03137255 0.03137255 0.03137255 0.03529412 0.03529412\n",
      " 0.03529412 0.03529412 0.03529412 0.03529412 0.03137255 0.03529412\n",
      " 0.03529412 0.03529412 0.02352941 0.03529412 0.03921569 0.02745098\n",
      " 0.02352941 0.03137255 0.03529412 0.03137255 0.03137255 0.03137255\n",
      " 0.03137255 0.03137255 0.03529412 0.03529412 0.03529412 0.03529412\n",
      " 0.03137255 0.03137255 0.03137255 0.03137255 0.03529412 0.03529412\n",
      " 0.03137255 0.03137255 0.03137255 0.03137255 0.03137255 0.03137255\n",
      " 0.03921569 0.03137255 0.02352941 0.02352941 0.03137255 0.03529412\n",
      " 0.03137255 0.02352941 0.02745098 0.02745098 0.02745098 0.02745098\n",
      " 0.02745098 0.02745098 0.03137255 0.03137255 0.03137255 0.03137255\n",
      " 0.03137255 0.03137255 0.03137255 0.03137255 0.03137255 0.03137255\n",
      " 0.03137255 0.03137255 0.03137255 0.03137255 0.03529412 0.02352941\n",
      " 0.02352941 0.03529412 0.03137255 0.01568627 0.01960784 0.03529412\n",
      " 0.03137255 0.02745098 0.02745098 0.02745098 0.02745098 0.02745098\n",
      " 0.02745098 0.02745098 0.02745098 0.02745098 0.03137255 0.03137255\n",
      " 0.03137255 0.03137255 0.03137255 0.03137255 0.03137255 0.02745098\n",
      " 0.02745098 0.03137255 0.01960784 0.02352941 0.02745098 0.02352941\n",
      " 0.01960784 0.01568627 0.02352941 0.02745098 0.01960784 0.02352941\n",
      " 0.02352941 0.02745098 0.02745098 0.02745098 0.02745098 0.02745098\n",
      " 0.02745098 0.02745098 0.03137255 0.03137255 0.03137255 0.03137255\n",
      " 0.03137255 0.03137255 0.02745098 0.02745098 0.02745098 0.02745098\n",
      " 0.02745098 0.02745098 0.00784314 0.         0.01568627 0.05490196\n",
      " 0.03921569 0.         0.00392157 0.00784314 0.01568627 0.02352941\n",
      " 0.02745098 0.02745098 0.02745098 0.02352941 0.02745098 0.02745098\n",
      " 0.02745098 0.03137255 0.03529412 0.02745098 0.03529412 0.01568627\n",
      " 0.03137255 0.01568627 0.03529412 0.03529412 0.00392157 0.00784314\n",
      " 0.3254902  0.87058824 0.99215686 1.         0.99607843 1.\n",
      " 0.89411765 0.36078431 0.00392157 0.01568627 0.01960784 0.01960784\n",
      " 0.03921569 0.02352941 0.02352941 0.02352941 0.02745098 0.02745098\n",
      " 0.01568627 0.04313725 0.02352941 0.03529412 0.03137255 0.03921569\n",
      " 0.         0.00784314 0.01960784 0.91764706 1.         0.60784314\n",
      " 0.18039216 0.         0.         0.16862745 0.68627451 0.98823529\n",
      " 0.18823529 0.01568627 0.01568627 0.01568627 0.01176471 0.03137255\n",
      " 0.02352941 0.02352941 0.02745098 0.02745098 0.03137255 0.01960784\n",
      " 0.01568627 0.02352941 0.01960784 0.01568627 0.01568627 0.2\n",
      " 1.         0.93333333 0.03137255 0.         0.         0.04313725\n",
      " 0.         0.         0.37254902 1.         0.25490196 0.\n",
      " 0.03137255 0.03137255 0.03137255 0.01960784 0.02352941 0.02352941\n",
      " 0.02745098 0.02745098 0.03529412 0.03137255 0.04313725 0.02352941\n",
      " 0.01960784 0.00392157 0.10196078 1.         0.74509804 0.\n",
      " 0.00784314 0.00784314 0.01176471 0.01568627 0.03137255 0.\n",
      " 0.49803922 1.         0.20392157 0.00392157 0.02352941 0.02745098\n",
      " 0.01960784 0.03137255 0.02352941 0.02352941 0.02745098 0.02745098\n",
      " 0.02745098 0.03137255 0.01176471 0.03921569 0.03921569 0.\n",
      " 0.90588235 1.         0.         0.02352941 0.01960784 0.02352941\n",
      " 0.02745098 0.01960784 0.02352941 0.         0.67058824 1.\n",
      " 0.12941176 0.         0.01568627 0.03529412 0.01960784 0.00784314\n",
      " 0.02352941 0.02745098 0.02745098 0.02745098 0.03137255 0.01568627\n",
      " 0.02745098 0.01960784 0.         0.2        1.         0.32156863\n",
      " 0.00392157 0.01176471 0.01568627 0.02352941 0.01176471 0.02352941\n",
      " 0.01568627 0.00784314 0.82745098 1.         0.         0.01960784\n",
      " 0.01568627 0.01960784 0.01960784 0.03137255 0.02352941 0.02745098\n",
      " 0.02745098 0.02745098 0.03921569 0.01568627 0.02745098 0.03921569\n",
      " 0.00392157 0.49803922 0.99215686 0.         0.01568627 0.01176471\n",
      " 0.02352941 0.03137255 0.00392157 0.02745098 0.         0.00784314\n",
      " 1.         0.69019608 0.01176471 0.03921569 0.02745098 0.01568627\n",
      " 0.02745098 0.01568627 0.02352941 0.02745098 0.02745098 0.02745098\n",
      " 0.01568627 0.04705882 0.02352941 0.02352941 0.00392157 0.4627451\n",
      " 1.         0.01960784 0.         0.03529412 0.00784314 0.01568627\n",
      " 0.02352941 0.00392157 0.         0.87058824 1.         0.48235294\n",
      " 0.00392157 0.00784314 0.01960784 0.03921569 0.01176471 0.03137255\n",
      " 0.02352941 0.02745098 0.02745098 0.02745098 0.03137255 0.03137255\n",
      " 0.01568627 0.02745098 0.01176471 0.03529412 0.99607843 0.68627451\n",
      " 0.         0.         0.00784314 0.         0.         0.16862745\n",
      " 1.         1.         1.         0.34509804 0.         0.01960784\n",
      " 0.03137255 0.01568627 0.02352941 0.02745098 0.02745098 0.02745098\n",
      " 0.02745098 0.02745098 0.02352941 0.02745098 0.03921569 0.03137255\n",
      " 0.03137255 0.         0.30588235 1.         1.         0.70588235\n",
      " 0.61568627 0.69019608 1.         1.         0.69411765 0.23529412\n",
      " 0.98823529 0.19215686 0.00392157 0.01960784 0.00392157 0.03137255\n",
      " 0.02745098 0.01960784 0.02745098 0.02745098 0.02745098 0.02745098\n",
      " 0.02352941 0.02745098 0.02745098 0.00392157 0.02745098 0.04705882\n",
      " 0.00392157 0.01568627 0.35686275 0.61960784 0.71372549 0.65098039\n",
      " 0.4        0.         0.         0.42352941 1.         0.0627451\n",
      " 0.01176471 0.03529412 0.01960784 0.02352941 0.01568627 0.02352941\n",
      " 0.02745098 0.02745098 0.02745098 0.02745098 0.04313725 0.02745098\n",
      " 0.02352941 0.02745098 0.03921569 0.01960784 0.02352941 0.00784314\n",
      " 0.         0.01176471 0.         0.         0.01568627 0.01568627\n",
      " 0.00392157 0.45490196 0.99607843 0.01176471 0.         0.02352941\n",
      " 0.03529412 0.01960784 0.02352941 0.03529412 0.02745098 0.02745098\n",
      " 0.02745098 0.03137255 0.02352941 0.04313725 0.02352941 0.02745098\n",
      " 0.02745098 0.01960784 0.04313725 0.01960784 0.02745098 0.04313725\n",
      " 0.01568627 0.01960784 0.02352941 0.01568627 0.         0.44705882\n",
      " 0.99215686 0.05490196 0.01176471 0.01568627 0.02745098 0.03137255\n",
      " 0.03529412 0.01960784 0.02745098 0.02745098 0.02745098 0.03137255\n",
      " 0.03921569 0.00784314 0.04313725 0.02745098 0.03529412 0.01960784\n",
      " 0.03921569 0.01960784 0.03137255 0.00392157 0.02745098 0.03921569\n",
      " 0.01960784 0.02745098 0.00784314 0.33333333 1.         0.12941176\n",
      " 0.01568627 0.03921569 0.02352941 0.02745098 0.01960784 0.02352941\n",
      " 0.02745098 0.02745098 0.03137255 0.03137255 0.02745098 0.03921569\n",
      " 0.02352941 0.02745098 0.02352941 0.02745098 0.02745098 0.01960784\n",
      " 0.02745098 0.03529412 0.02352941 0.01568627 0.02352941 0.01176471\n",
      " 0.01176471 0.25882353 0.98823529 0.25882353 0.         0.03137255\n",
      " 0.02352941 0.01960784 0.01960784 0.03921569 0.02745098 0.02745098\n",
      " 0.03137255 0.03137255 0.03921569 0.01568627 0.03921569 0.01960784\n",
      " 0.03921569 0.03137255 0.02352941 0.02745098 0.02352941 0.03137255\n",
      " 0.02745098 0.02352941 0.02352941 0.03529412 0.00392157 0.07058824\n",
      " 1.         0.4627451  0.00392157 0.01960784 0.03529412 0.02745098\n",
      " 0.03529412 0.02352941 0.02745098 0.02745098 0.03137255 0.03137255\n",
      " 0.03137255 0.03137255 0.03137255 0.03137255 0.02745098 0.02745098\n",
      " 0.03137255 0.03137255 0.02352941 0.02352941 0.02745098 0.03137255\n",
      " 0.03137255 0.02745098 0.01960784 0.01176471 0.01176471 0.01176471\n",
      " 0.01960784 0.03137255 0.03529412 0.03137255 0.03137255 0.03137255\n",
      " 0.03137255 0.03137255 0.03529412 0.03529412 0.03137255 0.03137255\n",
      " 0.03137255 0.03137255 0.03137255 0.03137255 0.03137255 0.03137255\n",
      " 0.02745098 0.02745098 0.03137255 0.03137255 0.03137255 0.02745098\n",
      " 0.02352941 0.01960784 0.02352941 0.02352941 0.02745098 0.03529412\n",
      " 0.03529412 0.03529412 0.03137255 0.03529412 0.03137255 0.03137255\n",
      " 0.03529412 0.03529412 0.03529412 0.03529412 0.03137255 0.03137255\n",
      " 0.03137255 0.03137255 0.03137255 0.03137255 0.03137255 0.03137255\n",
      " 0.03137255 0.03529412 0.03529412 0.03137255 0.03137255 0.02745098\n",
      " 0.03529412 0.03137255 0.03137255 0.03529412 0.03529412 0.03529412\n",
      " 0.03137255 0.03529412 0.03137255 0.03529412 0.03529412 0.03921569\n",
      " 0.03529412 0.03529412 0.03529412 0.03529412 0.03529412 0.03529412\n",
      " 0.03529412 0.03529412 0.03529412 0.03137255 0.03137255 0.03137255\n",
      " 0.03529412 0.03529412 0.03529412 0.03529412 0.03921569 0.03529412\n",
      " 0.03529412 0.03529412 0.03529412 0.03137255 0.03137255 0.03529412\n",
      " 0.03529412 0.03529412 0.03921569 0.03921569]\n"
     ]
    }
   ],
   "source": [
    "img_pixel_flattened = img_pixel.reshape(1,28*28)\n",
    "print(img_pixel_flattened.shape)\n",
    "img_pixel_flattened = img_pixel_flattened/255\n",
    "print(img_pixel_flattened[0].shape)\n",
    "print(img_pixel_flattened[0])\n"
   ]
  },
  {
   "cell_type": "markdown",
   "metadata": {},
   "source": [
    "# Predicting the digit for the handwritten image"
   ]
  },
  {
   "cell_type": "code",
   "execution_count": 189,
   "metadata": {},
   "outputs": [
    {
     "data": {
      "text/plain": [
       "9"
      ]
     },
     "execution_count": 189,
     "metadata": {},
     "output_type": "execute_result"
    }
   ],
   "source": [
    "digit_predicted =model.predict(img_pixel_flattened)\n",
    "np.argmax(digit_predicted[0])"
   ]
  },
  {
   "cell_type": "code",
   "execution_count": null,
   "metadata": {},
   "outputs": [],
   "source": []
  },
  {
   "cell_type": "code",
   "execution_count": null,
   "metadata": {},
   "outputs": [],
   "source": []
  },
  {
   "cell_type": "code",
   "execution_count": null,
   "metadata": {},
   "outputs": [],
   "source": []
  }
 ],
 "metadata": {
  "kernelspec": {
   "display_name": "Python 3",
   "language": "python",
   "name": "python3"
  },
  "language_info": {
   "codemirror_mode": {
    "name": "ipython",
    "version": 3
   },
   "file_extension": ".py",
   "mimetype": "text/x-python",
   "name": "python",
   "nbconvert_exporter": "python",
   "pygments_lexer": "ipython3",
   "version": "3.7.6"
  }
 },
 "nbformat": 4,
 "nbformat_minor": 4
}
